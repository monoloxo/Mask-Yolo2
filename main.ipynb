{
 "cells": [
  {
   "cell_type": "code",
   "execution_count": 1,
   "metadata": {
    "collapsed": true
   },
   "outputs": [],
   "source": [
    "import numpy as np\n",
    "import tensorflow as tf"
   ]
  },
  {
   "cell_type": "code",
   "execution_count": 2,
   "metadata": {},
   "outputs": [
    {
     "ename": "FileNotFoundError",
     "evalue": "[Errno 2] No such file or directory: 'vgg16.npy'",
     "output_type": "error",
     "traceback": [
      "\u001b[0;31m---------------------------------------------------------------------------\u001b[0m",
      "\u001b[0;31mFileNotFoundError\u001b[0m                         Traceback (most recent call last)",
      "\u001b[0;32m<ipython-input-2-d2e86cf9bb13>\u001b[0m in \u001b[0;36m<module>\u001b[0;34m()\u001b[0m\n\u001b[0;32m----> 1\u001b[0;31m \u001b[0mdata_dict\u001b[0m \u001b[0;34m=\u001b[0m \u001b[0mnp\u001b[0m\u001b[0;34m.\u001b[0m\u001b[0mload\u001b[0m\u001b[0;34m(\u001b[0m\u001b[0;34m\"vgg16.npy\"\u001b[0m\u001b[0;34m,\u001b[0m\u001b[0mencoding\u001b[0m\u001b[0;34m=\u001b[0m\u001b[0;34m'latin1'\u001b[0m\u001b[0;34m)\u001b[0m\u001b[0;34m.\u001b[0m\u001b[0mitem\u001b[0m\u001b[0;34m(\u001b[0m\u001b[0;34m)\u001b[0m\u001b[0;34m\u001b[0m\u001b[0m\n\u001b[0m",
      "\u001b[0;32m~/anaconda3/envs/tensorflow/lib/python3.5/site-packages/numpy/lib/npyio.py\u001b[0m in \u001b[0;36mload\u001b[0;34m(file, mmap_mode, allow_pickle, fix_imports, encoding)\u001b[0m\n\u001b[1;32m    368\u001b[0m     \u001b[0mown_fid\u001b[0m \u001b[0;34m=\u001b[0m \u001b[0;32mFalse\u001b[0m\u001b[0;34m\u001b[0m\u001b[0m\n\u001b[1;32m    369\u001b[0m     \u001b[0;32mif\u001b[0m \u001b[0misinstance\u001b[0m\u001b[0;34m(\u001b[0m\u001b[0mfile\u001b[0m\u001b[0;34m,\u001b[0m \u001b[0mbasestring\u001b[0m\u001b[0;34m)\u001b[0m\u001b[0;34m:\u001b[0m\u001b[0;34m\u001b[0m\u001b[0m\n\u001b[0;32m--> 370\u001b[0;31m         \u001b[0mfid\u001b[0m \u001b[0;34m=\u001b[0m \u001b[0mopen\u001b[0m\u001b[0;34m(\u001b[0m\u001b[0mfile\u001b[0m\u001b[0;34m,\u001b[0m \u001b[0;34m\"rb\"\u001b[0m\u001b[0;34m)\u001b[0m\u001b[0;34m\u001b[0m\u001b[0m\n\u001b[0m\u001b[1;32m    371\u001b[0m         \u001b[0mown_fid\u001b[0m \u001b[0;34m=\u001b[0m \u001b[0;32mTrue\u001b[0m\u001b[0;34m\u001b[0m\u001b[0m\n\u001b[1;32m    372\u001b[0m     \u001b[0;32melif\u001b[0m \u001b[0mis_pathlib_path\u001b[0m\u001b[0;34m(\u001b[0m\u001b[0mfile\u001b[0m\u001b[0;34m)\u001b[0m\u001b[0;34m:\u001b[0m\u001b[0;34m\u001b[0m\u001b[0m\n",
      "\u001b[0;31mFileNotFoundError\u001b[0m: [Errno 2] No such file or directory: 'vgg16.npy'"
     ]
    }
   ],
   "source": [
    "data_dict = np.load(\"vgg16.npy\",encoding='latin1').item()"
   ]
  },
  {
   "cell_type": "code",
   "execution_count": null,
   "metadata": {
    "collapsed": true
   },
   "outputs": [],
   "source": [
    "data_dict.keys()"
   ]
  },
  {
   "cell_type": "code",
   "execution_count": null,
   "metadata": {
    "collapsed": true
   },
   "outputs": [],
   "source": [
    "data_dict['conv1_1'][0]"
   ]
  },
  {
   "cell_type": "code",
   "execution_count": null,
   "metadata": {
    "collapsed": true
   },
   "outputs": [],
   "source": [
    "data_dict['conv1_1'][1].shape"
   ]
  },
  {
   "cell_type": "code",
   "execution_count": null,
   "metadata": {
    "collapsed": true
   },
   "outputs": [],
   "source": [
    "v = tf.truncated_normal([2,2],0,1)"
   ]
  },
  {
   "cell_type": "code",
   "execution_count": null,
   "metadata": {
    "collapsed": true
   },
   "outputs": [],
   "source": [
    "with tf.Session() as sess:\n",
    "    print(sess.run(v))"
   ]
  },
  {
   "cell_type": "code",
   "execution_count": 3,
   "metadata": {
    "collapsed": true
   },
   "outputs": [],
   "source": [
    "import os\n",
    "import cv2"
   ]
  },
  {
   "cell_type": "code",
   "execution_count": 4,
   "metadata": {
    "collapsed": true
   },
   "outputs": [],
   "source": [
    "def get_images_labels_list():\n",
    "    images_list=[]\n",
    "    labels_list=[]\n",
    "    with open(\"/home/linx-dl/hzr/2012_train.txt\",'r') as f:\n",
    "        for line in f:\n",
    "            image_full_name=line.split('\\n')[0]\n",
    "           # print(image_full_name)\n",
    "            images_list.append(image_full_name)\n",
    "            label_name = line.split('/')[-1].split('.')[0]+'.txt'\n",
    "            label_full_name=os.path.join(\"/home/linx-dl/hzr/VOCdevkit/VOC2012/labels\",label_name)\n",
    "           \n",
    "          #  print(label_full_name)\n",
    "            labels_list.append(label_full_name)\n",
    "    return images_list,labels_list"
   ]
  },
  {
   "cell_type": "code",
   "execution_count": 5,
   "metadata": {
    "collapsed": true
   },
   "outputs": [],
   "source": [
    "images_list,labels_list  = get_images_labels_list()\n",
    "       #self.labels_list = self.get_labels_list()"
   ]
  },
  {
   "cell_type": "code",
   "execution_count": 6,
   "metadata": {
    "collapsed": true
   },
   "outputs": [],
   "source": [
    "def parse_function(filename, label):\n",
    "    image_string = tf.read_file(filename)\n",
    "    \n",
    "    label = tf.read_file(label)\n",
    "    #label = tf.decode_raw(label,tf.uint8)\n",
    "    # Don't use tf.image.decode_image, or the output shape will be undefined\n",
    "    image = tf.image.decode_jpeg(image_string, channels=3)\n",
    "\n",
    "    # This will convert to float values in [0, 1]\n",
    "    image = tf.image.convert_image_dtype(image, tf.float32)\n",
    "\n",
    "    image = tf.image.resize_images(image, [416, 416])\n",
    "    return image, label"
   ]
  },
  {
   "cell_type": "code",
   "execution_count": 7,
   "metadata": {
    "collapsed": true
   },
   "outputs": [],
   "source": [
    "def _read_py_function(filename,label):\n",
    "    image_decoded = cv2.imread(filename.decode(), cv2.IMREAD_GRAYSCALE)\n",
    "    return image_decoded, label"
   ]
  },
  {
   "cell_type": "code",
   "execution_count": 8,
   "metadata": {
    "collapsed": true
   },
   "outputs": [],
   "source": [
    "def _resize_function(image_decoded, label):\n",
    "    image_decoded.set_shape([None, None, None])\n",
    "    image_resized = tf.image.resize_images(image_decoded, [28, 28])\n",
    "    return image_resized, label"
   ]
  },
  {
   "cell_type": "code",
   "execution_count": 9,
   "metadata": {
    "collapsed": true
   },
   "outputs": [],
   "source": [
    "dataset = tf.data.Dataset.from_tensor_slices((tf.constant(images_list),tf.constant(labels_list)))\n",
    "#dataset = dataset.map(lambda filename, label: tuple(tf.py_func(_read_py_function, [filename, label], [tf.uint8, tf.string])),num_parallel_calls=4)\n",
    "dataset = dataset.map(parse_function,num_parallel_calls=4)\n",
    "dataset = dataset.shuffle(len(images_list))\n",
    "dataset = dataset.batch(10)\n",
    "dataset = dataset.prefetch(1)\n",
    "\n",
    "iterator = dataset.make_initializable_iterator()\n"
   ]
  },
  {
   "cell_type": "code",
   "execution_count": 10,
   "metadata": {
    "collapsed": true
   },
   "outputs": [],
   "source": [
    "import time"
   ]
  },
  {
   "cell_type": "code",
   "execution_count": 11,
   "metadata": {
    "collapsed": true
   },
   "outputs": [],
   "source": [
    "with tf.Session() as sess:\n",
    "    sess.run(iterator.initializer)\n",
    "   \n",
    "    batch_images,batch_labels = sess.run(iterator.get_next())"
   ]
  },
  {
   "cell_type": "code",
   "execution_count": 12,
   "metadata": {
    "collapsed": true
   },
   "outputs": [],
   "source": [
    "image_list=[]\n",
    "for i,label in enumerate(batch_labels):\n",
    "    label_list=[]\n",
    "    for j,v in enumerate(label.decode().splitlines()):\n",
    "        label_list.append([float(vv)for vv in v.split(' ')])\n",
    "    image_list.append(label_list)"
   ]
  },
  {
   "cell_type": "code",
   "execution_count": 13,
   "metadata": {},
   "outputs": [
    {
     "data": {
      "text/plain": [
       "[[[18.0, 0.382, 0.48930481283422456, 0.764, 0.7486631016042781]],\n",
       " [[9.0, 0.5351473922902494, 0.48, 0.7936507936507937, 0.844]],\n",
       " [[17.0, 0.588, 0.644, 0.8186666666666667, 0.672],\n",
       "  [14.0, 0.852, 0.657, 0.2906666666666667, 0.642],\n",
       "  [14.0, 0.588, 0.608, 0.568, 0.78]],\n",
       " [[7.0, 0.4425, 0.47000000000000003, 0.655, 0.7666666666666667]],\n",
       " [[14.0, 0.68, 0.512, 0.636, 0.9706666666666667],\n",
       "  [11.0, 0.201, 0.7653333333333333, 0.122, 0.3893333333333333],\n",
       "  [6.0, 0.41000000000000003, 0.41466666666666663, 0.1, 0.09333333333333332],\n",
       "  [6.0, 0.872, 0.36, 0.08, 0.08],\n",
       "  [14.0, 0.107, 0.5093333333333333, 0.20600000000000002, 0.9226666666666666],\n",
       "  [14.0, 0.11, 0.3253333333333333, 0.20400000000000001, 0.21333333333333332]],\n",
       " [[9.0, 0.629, 0.37066666666666664, 0.106, 0.08533333333333333],\n",
       "  [9.0, 0.404, 0.46266666666666667, 0.22, 0.16799999999999998],\n",
       "  [9.0, 0.322, 0.5453333333333333, 0.184, 0.21066666666666667]],\n",
       " [[10.0, 0.405, 0.7749244712990937, 0.806, 0.44410876132930516],\n",
       "  [8.0, 0.9390000000000001, 0.7719033232628398, 0.11, 0.44410876132930516],\n",
       "  [14.0, 0.169, 0.6283987915407855, 0.338, 0.7009063444108762],\n",
       "  [14.0, 0.29, 0.5377643504531722, 0.12, 0.2416918429003021],\n",
       "  [14.0, 0.811, 0.6601208459214502, 0.374, 0.6737160120845922],\n",
       "  [14.0, 0.9440000000000001, 0.3157099697885196, 0.108, 0.2084592145015106],\n",
       "  [4.0, 0.447, 0.5770392749244713, 0.046, 0.18126888217522658],\n",
       "  [4.0, 0.422, 0.5483383685800605, 0.032, 0.18429003021148035]],\n",
       " [[14.0, 0.6466666666666666, 0.526, 0.7013333333333334, 0.9440000000000001]],\n",
       " [[0.0, 0.4984984984984985, 0.517, 0.996996996996997, 0.9380000000000001]],\n",
       " [[14.0, 0.47500000000000003, 0.6066066066066066, 0.274, 0.7807807807807807],\n",
       "  [14.0, 0.804, 0.6396396396396397, 0.376, 0.7147147147147147],\n",
       "  [14.0, 0.213, 0.551051051051051, 0.41400000000000003, 0.8918918918918919]]]"
      ]
     },
     "execution_count": 13,
     "metadata": {},
     "output_type": "execute_result"
    }
   ],
   "source": [
    "image_list"
   ]
  },
  {
   "cell_type": "code",
   "execution_count": 14,
   "metadata": {
    "collapsed": true
   },
   "outputs": [],
   "source": [
    "def iou_wh(r1, r2):\n",
    "\n",
    "    min_w = min(r1[0],r2[0])\n",
    "    min_h = min(r1[1],r2[1])\n",
    "    area_r1 = r1[0]*r1[1]\n",
    "    area_r2 = r2[0]*r2[1]\n",
    "\n",
    "    intersect = min_w * min_h\n",
    "    union = area_r1 + area_r2 - intersect\n",
    "\n",
    "    return intersect/union\n",
    "\n",
    "def get_active_anchors(roi, anchors):\n",
    "    indxs = []\n",
    "    iou_max, index_max = 0, 0\n",
    "    \n",
    "    for i,a in enumerate(anchors):\n",
    "        iou = iou_wh(roi[1:], a)\n",
    "        if iou>0.7:\n",
    "            indxs.append(i)\n",
    "        if iou > iou_max:\n",
    "            iou_max, index_max = iou, i\n",
    "\n",
    "    if len(indxs) == 0:\n",
    "        indxs.append(index_max)\n",
    "\n",
    "    return indxs\n",
    "\n",
    "def get_grid_cell(roi):\n",
    "\n",
    "    x_center = roi[1] + roi[3]/2.0\n",
    "    y_center = roi[2] + roi[4]/2.0\n",
    "\n",
    "    grid_x = int(x_center/float(1/13))\n",
    "    grid_y = int(y_center/float(1/13))\n",
    "\n",
    "    return grid_x, grid_y\n",
    "def roi2label(roi, anchor):\n",
    "\n",
    "    x_center = roi[1]+roi[3]/2.0\n",
    "    y_center = roi[2]+roi[4]/2.0\n",
    "\n",
    "    grid_x = x_center/float(1/13)\n",
    "    grid_y = y_center/float(1/13)\n",
    "    \n",
    "    grid_x_offset = grid_x - int(grid_x)\n",
    "    grid_y_offset = grid_y - int(grid_y)\n",
    "\n",
    "    roi_w_scale = roi[3]/(1/anchor[0])\n",
    "    roi_h_scale = roi[4]/(1/anchor[1])\n",
    "\n",
    "    label=[grid_x_offset, grid_y_offset, roi_w_scale, roi_h_scale]\n",
    "    \n",
    "    return label"
   ]
  },
  {
   "cell_type": "code",
   "execution_count": 30,
   "metadata": {},
   "outputs": [],
   "source": [
    "label = np.zeros([10,13, 13, 5, 6], dtype=np.float32)\n",
    "anchors=[1.3221, 1.73145, 3.19275, 4.00944, 5.05587, 8.09892, 9.47112, 4.84053, 11.2364, 10.0071]\n",
    "anchor_list=[]\n",
    "for i in range(0,len(anchors),2):\n",
    "    anchor_list.append([anchors[i]/13,anchors[i+1]/13])\n",
    "for image_index in range(len(image_list)):#every image\n",
    "    for label_index in range(len(image_list[image_index])):#every label\n",
    "       # print(image_list[image_index][label_index])\n",
    "        activate_anchor_index=get_active_anchors(image_list[image_index][label_index],anchor_list)\n",
    "        \n",
    "        grid_x,grid_y = get_grid_cell(image_list[image_index][label_index])\n",
    "        for index in activate_anchor_index:\n",
    "            anchor_label= roi2label(image_list[image_index][label_index],anchor_list[index])\n",
    "            label[image_index,grid_x,grid_y,index] = np.concatenate((anchor_label, [int(image_list[image_index][label_index][0])], [1.0]))"
   ]
  },
  {
   "cell_type": "code",
   "execution_count": 31,
   "metadata": {},
   "outputs": [
    {
     "data": {
      "text/plain": [
       "array([[[  0.        ,   0.        ,   0.        ,   0.        ,\n",
       "           0.        ,   0.        ],\n",
       "        [  0.        ,   0.        ,   0.        ,   0.        ,\n",
       "           0.        ,   0.        ],\n",
       "        [  0.        ,   0.        ,   0.        ,   0.        ,\n",
       "           0.        ,   0.        ],\n",
       "        [  0.        ,   0.        ,   0.        ,   0.        ,\n",
       "           0.        ,   0.        ],\n",
       "        [  0.        ,   0.        ,   0.        ,   0.        ,\n",
       "           0.        ,   0.        ]],\n",
       "\n",
       "       [[  0.        ,   0.        ,   0.        ,   0.        ,\n",
       "           0.        ,   0.        ],\n",
       "        [  0.        ,   0.        ,   0.        ,   0.        ,\n",
       "           0.        ,   0.        ],\n",
       "        [  0.        ,   0.        ,   0.        ,   0.        ,\n",
       "           0.        ,   0.        ],\n",
       "        [  0.        ,   0.        ,   0.        ,   0.        ,\n",
       "           0.        ,   0.        ],\n",
       "        [  0.        ,   0.        ,   0.        ,   0.        ,\n",
       "           0.        ,   0.        ]],\n",
       "\n",
       "       [[  0.        ,   0.        ,   0.        ,   0.        ,\n",
       "           0.        ,   0.        ],\n",
       "        [  0.        ,   0.        ,   0.        ,   0.        ,\n",
       "           0.        ,   0.        ],\n",
       "        [  0.        ,   0.        ,   0.        ,   0.        ,\n",
       "           0.        ,   0.        ],\n",
       "        [  0.        ,   0.        ,   0.        ,   0.        ,\n",
       "           0.        ,   0.        ],\n",
       "        [  0.        ,   0.        ,   0.        ,   0.        ,\n",
       "           0.        ,   0.        ]],\n",
       "\n",
       "       [[  0.        ,   0.        ,   0.        ,   0.        ,\n",
       "           0.        ,   0.        ],\n",
       "        [  0.        ,   0.        ,   0.        ,   0.        ,\n",
       "           0.        ,   0.        ],\n",
       "        [  0.        ,   0.        ,   0.        ,   0.        ,\n",
       "           0.        ,   0.        ],\n",
       "        [  0.        ,   0.        ,   0.        ,   0.        ,\n",
       "           0.        ,   0.        ],\n",
       "        [  0.        ,   0.        ,   0.        ,   0.        ,\n",
       "           0.        ,   0.        ]],\n",
       "\n",
       "       [[  0.        ,   0.        ,   0.        ,   0.        ,\n",
       "           0.        ,   0.        ],\n",
       "        [  0.        ,   0.        ,   0.        ,   0.        ,\n",
       "           0.        ,   0.        ],\n",
       "        [  0.        ,   0.        ,   0.        ,   0.        ,\n",
       "           0.        ,   0.        ],\n",
       "        [  0.        ,   0.        ,   0.        ,   0.        ,\n",
       "           0.        ,   0.        ],\n",
       "        [  0.        ,   0.        ,   0.        ,   0.        ,\n",
       "           0.        ,   0.        ]],\n",
       "\n",
       "       [[  0.        ,   0.        ,   0.        ,   0.        ,\n",
       "           0.        ,   0.        ],\n",
       "        [  0.        ,   0.        ,   0.        ,   0.        ,\n",
       "           0.        ,   0.        ],\n",
       "        [  0.        ,   0.        ,   0.        ,   0.        ,\n",
       "           0.        ,   0.        ],\n",
       "        [  0.        ,   0.        ,   0.        ,   0.        ,\n",
       "           0.        ,   0.        ],\n",
       "        [  0.        ,   0.        ,   0.        ,   0.        ,\n",
       "           0.        ,   0.        ]],\n",
       "\n",
       "       [[  0.        ,   0.        ,   0.        ,   0.        ,\n",
       "           0.        ,   0.        ],\n",
       "        [  0.        ,   0.        ,   0.        ,   0.        ,\n",
       "           0.        ,   0.        ],\n",
       "        [  0.        ,   0.        ,   0.        ,   0.        ,\n",
       "           0.        ,   0.        ],\n",
       "        [  0.        ,   0.        ,   0.        ,   0.        ,\n",
       "           0.        ,   0.        ],\n",
       "        [  0.        ,   0.        ,   0.        ,   0.        ,\n",
       "           0.        ,   0.        ]],\n",
       "\n",
       "       [[  0.        ,   0.        ,   0.        ,   0.        ,\n",
       "           0.        ,   0.        ],\n",
       "        [  0.        ,   0.        ,   0.        ,   0.        ,\n",
       "           0.        ,   0.        ],\n",
       "        [  0.        ,   0.        ,   0.        ,   0.        ,\n",
       "           0.        ,   0.        ],\n",
       "        [  0.        ,   0.        ,   0.        ,   0.        ,\n",
       "           0.        ,   0.        ],\n",
       "        [  0.        ,   0.        ,   0.        ,   0.        ,\n",
       "           0.        ,   0.        ]],\n",
       "\n",
       "       [[  0.        ,   0.        ,   0.        ,   0.        ,\n",
       "           0.        ,   0.        ],\n",
       "        [  0.        ,   0.        ,   0.        ,   0.        ,\n",
       "           0.        ,   0.        ],\n",
       "        [  0.        ,   0.        ,   0.        ,   0.        ,\n",
       "           0.        ,   0.        ],\n",
       "        [  0.        ,   0.        ,   0.        ,   0.        ,\n",
       "           0.        ,   0.        ],\n",
       "        [  0.        ,   0.        ,   0.        ,   0.        ,\n",
       "           0.        ,   0.        ]],\n",
       "\n",
       "       [[  0.        ,   0.        ,   0.        ,   0.        ,\n",
       "           0.        ,   0.        ],\n",
       "        [  0.        ,   0.        ,   0.        ,   0.        ,\n",
       "           0.        ,   0.        ],\n",
       "        [  0.        ,   0.        ,   0.        ,   0.        ,\n",
       "           0.        ,   0.        ],\n",
       "        [  0.        ,   0.        ,   0.        ,   0.        ,\n",
       "           0.        ,   0.        ],\n",
       "        [  0.        ,   0.        ,   0.        ,   0.        ,\n",
       "           0.        ,   0.        ]],\n",
       "\n",
       "       [[  0.        ,   0.        ,   0.        ,   0.        ,\n",
       "           0.        ,   0.        ],\n",
       "        [  0.        ,   0.        ,   0.        ,   0.        ,\n",
       "           0.        ,   0.        ],\n",
       "        [  0.        ,   0.        ,   0.        ,   0.        ,\n",
       "           0.        ,   0.        ],\n",
       "        [  0.        ,   0.        ,   0.        ,   0.        ,\n",
       "           0.        ,   0.        ],\n",
       "        [  0.        ,   0.        ,   0.        ,   0.        ,\n",
       "           0.        ,   0.        ]],\n",
       "\n",
       "       [[  0.        ,   0.        ,   0.        ,   0.        ,\n",
       "           0.        ,   0.        ],\n",
       "        [  0.        ,   0.        ,   0.        ,   0.        ,\n",
       "           0.        ,   0.        ],\n",
       "        [  0.93199998,   0.22727273,   0.2971296 ,   0.46641251,\n",
       "          18.        ,   1.        ],\n",
       "        [  0.        ,   0.        ,   0.        ,   0.        ,\n",
       "           0.        ,   0.        ],\n",
       "        [  0.        ,   0.        ,   0.        ,   0.        ,\n",
       "           0.        ,   0.        ]],\n",
       "\n",
       "       [[  0.        ,   0.        ,   0.        ,   0.        ,\n",
       "           0.        ,   0.        ],\n",
       "        [  0.        ,   0.        ,   0.        ,   0.        ,\n",
       "           0.        ,   0.        ],\n",
       "        [  0.        ,   0.        ,   0.        ,   0.        ,\n",
       "           0.        ,   0.        ],\n",
       "        [  0.        ,   0.        ,   0.        ,   0.        ,\n",
       "           0.        ,   0.        ],\n",
       "        [  0.        ,   0.        ,   0.        ,   0.        ,\n",
       "           0.        ,   0.        ]]], dtype=float32)"
      ]
     },
     "execution_count": 31,
     "metadata": {},
     "output_type": "execute_result"
    }
   ],
   "source": [
    "label[0,9,...]"
   ]
  },
  {
   "cell_type": "code",
   "execution_count": null,
   "metadata": {
    "collapsed": true
   },
   "outputs": [],
   "source": [
    "image_list=[]\n",
    "for l in batch_labels:\n",
    "    label_list=[]\n",
    "    for j in l.decode().splitlines():\n",
    "        print([float(value) for value in j.split(' ')])\n",
    "    images_list.append(label_list)"
   ]
  },
  {
   "cell_type": "code",
   "execution_count": null,
   "metadata": {
    "collapsed": true
   },
   "outputs": [],
   "source": [
    "image_list"
   ]
  },
  {
   "cell_type": "code",
   "execution_count": null,
   "metadata": {
    "collapsed": true
   },
   "outputs": [],
   "source": [
    "batch_images[0,:]"
   ]
  },
  {
   "cell_type": "code",
   "execution_count": null,
   "metadata": {
    "collapsed": true
   },
   "outputs": [],
   "source": [
    "import matplotlib.pyplot as plt\n",
    "import matplotlib.image as mpimg\n",
    "\n",
    "%matplotlib inline"
   ]
  },
  {
   "cell_type": "code",
   "execution_count": null,
   "metadata": {
    "collapsed": true
   },
   "outputs": [],
   "source": [
    "plt.imshow(batch_images[0,:])"
   ]
  },
  {
   "cell_type": "code",
   "execution_count": 1,
   "metadata": {
    "collapsed": true
   },
   "outputs": [],
   "source": [
    "import numpy as np"
   ]
  },
  {
   "cell_type": "code",
   "execution_count": 3,
   "metadata": {},
   "outputs": [
    {
     "data": {
      "text/plain": [
       "array([1])"
      ]
     },
     "execution_count": 3,
     "metadata": {},
     "output_type": "execute_result"
    }
   ],
   "source": [
    "np.array([1])"
   ]
  },
  {
   "cell_type": "code",
   "execution_count": 4,
   "metadata": {},
   "outputs": [
    {
     "data": {
      "text/plain": [
       "[1]"
      ]
     },
     "execution_count": 4,
     "metadata": {},
     "output_type": "execute_result"
    }
   ],
   "source": [
    "[1]"
   ]
  },
  {
   "cell_type": "code",
   "execution_count": null,
   "metadata": {
    "collapsed": true
   },
   "outputs": [],
   "source": []
  }
 ],
 "metadata": {
  "kernelspec": {
   "display_name": "Python 3",
   "language": "python",
   "name": "python3"
  },
  "language_info": {
   "codemirror_mode": {
    "name": "ipython",
    "version": 3
   },
   "file_extension": ".py",
   "mimetype": "text/x-python",
   "name": "python",
   "nbconvert_exporter": "python",
   "pygments_lexer": "ipython3",
   "version": "3.5.4"
  }
 },
 "nbformat": 4,
 "nbformat_minor": 2
}
